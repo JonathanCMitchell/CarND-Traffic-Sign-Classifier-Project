{
 "cells": [
  {
   "cell_type": "markdown",
   "metadata": {},
   "source": [
    "# Self-Driving Car Engineer Nanodegree\n",
    "\n",
    "## Deep Learning\n",
    "\n",
    "## Project: Build a Traffic Sign Recognition Classifier\n",
    "\n",
    "In this notebook, a template is provided for you to implement your functionality in stages which is required to successfully complete this project. If additional code is required that cannot be included in the notebook, be sure that the Python code is successfully imported and included in your submission, if necessary. Sections that begin with **'Implementation'** in the header indicate where you should begin your implementation for your project. Note that some sections of implementation are optional, and will be marked with **'Optional'** in the header.\n",
    "\n",
    "In addition to implementing code, there will be questions that you must answer which relate to the project and your implementation. Each section where you will answer a question is preceded by a **'Question'** header. Carefully read each question and provide thorough answers in the following text boxes that begin with **'Answer:'**. Your project submission will be evaluated based on your answers to each of the questions and the implementation you provide.\n",
    "\n",
    ">**Note:** Code and Markdown cells can be executed using the **Shift + Enter** keyboard shortcut. In addition, Markdown cells can be edited by typically double-clicking the cell to enter edit mode."
   ]
  },
  {
   "cell_type": "markdown",
   "metadata": {},
   "source": [
    "---\n",
    "## Step 0: Load The Data"
   ]
  },
  {
   "cell_type": "code",
   "execution_count": 1,
   "metadata": {
    "collapsed": true
   },
   "outputs": [],
   "source": [
    "# Load pickled data\n",
    "import pickle\n",
    "import numpy as np\n",
    "import tensorflow as tf\n",
    "\n",
    "# TODO: Fill this in based on where you saved the training and testing data\n",
    "\n",
    "training_file = 'train.p'\n",
    "testing_file = 'test.p'\n",
    "\n",
    "with open(training_file, mode='rb') as f:\n",
    "    train = pickle.load(f)\n",
    "with open(testing_file, mode='rb') as f:\n",
    "    test = pickle.load(f)\n",
    "    \n",
    "X_train, y_train = train['features'], train['labels']\n",
    "X_test, y_test = test['features'], test['labels']"
   ]
  },
  {
   "cell_type": "markdown",
   "metadata": {},
   "source": [
    "---\n",
    "\n",
    "## Step 1: Dataset Summary & Exploration\n",
    "\n",
    "The pickled data is a dictionary with 4 key/value pairs:\n",
    "\n",
    "- `'features'` is a 4D array containing raw pixel data of the traffic sign images, (num examples, width, height, channels).\n",
    "- `'labels'` is a 1D array containing the label/class id of the traffic sign. The file `signnames.csv` contains id -> name mappings for each id.\n",
    "- `'sizes'` is a list containing tuples, (width, height) representing the the original width and height the image.\n",
    "- `'coords'` is a list containing tuples, (x1, y1, x2, y2) representing coordinates of a bounding box around the sign in the image. **THESE COORDINATES ASSUME THE ORIGINAL IMAGE. THE PICKLED DATA CONTAINS RESIZED VERSIONS (32 by 32) OF THESE IMAGES**\n",
    "\n",
    "Complete the basic data summary below."
   ]
  },
  {
   "cell_type": "markdown",
   "metadata": {},
   "source": [
    "Practice stuff:"
   ]
  },
  {
   "cell_type": "code",
   "execution_count": 2,
   "metadata": {
    "collapsed": false
   },
   "outputs": [
    {
     "name": "stdout",
     "output_type": "stream",
     "text": [
      "Train classes: 43 Test classes: 12630\n",
      "Training examples: 39209, Testing examples: 12630\n",
      "Number of training examples = 39209\n",
      "Number of training labels: (not unique):  (39209,)\n",
      "Number of testing examples = 12630\n",
      "Image data shape = (32, 32, 3)\n",
      "Number of classes = 43\n"
     ]
    }
   ],
   "source": [
    "### Replace each question mark with the appropriate value.\n",
    "\n",
    "# TODO: Number of training examples\n",
    "n_train = X_train.shape[0]\n",
    "\n",
    "# TODO: Number of testing examples.\n",
    "n_test = y_test.shape[0]\n",
    "\n",
    "# TODO: What's the shape of an traffic sign image?\n",
    "image_shape = X_train[0].shape\n",
    "\n",
    "# TODO: How many unique classes/labels there are in the dataset.\n",
    "\n",
    "n_classes = len(np.unique(y_train))\n",
    "test_classes = len(np.unique(y_test))\n",
    "print('Train classes: {} Test classes: {}'.format(n_classes, n_test))\n",
    "print('Training examples: {}, Testing examples: {}'.format(n_train, n_test))\n",
    "print(\"Number of training examples =\", n_train)\n",
    "print('Number of training labels: (not unique): ',y_train.shape)\n",
    "print(\"Number of testing examples =\", n_test)\n",
    "print(\"Image data shape =\", image_shape)\n",
    "print(\"Number of classes =\", n_classes)"
   ]
  },
  {
   "cell_type": "markdown",
   "metadata": {},
   "source": [
    "## Create validation set: \n",
    "#### X_train: 80% , X_validation: 20% (examples)\n",
    "#### y_train: 80% , y_validation: 20% (labels)"
   ]
  },
  {
   "cell_type": "code",
   "execution_count": 3,
   "metadata": {
    "collapsed": false
   },
   "outputs": [
    {
     "name": "stdout",
     "output_type": "stream",
     "text": [
      "X_train shape: (31367, 32, 32, 3)\n",
      "X_validate shape: (7842, 32, 32, 3)\n",
      "y_train shape:  (31367,)\n",
      "y_validate shape:  (7842,)\n",
      "num_training_examples:  31367\n",
      "num_validation_examples:  7842\n",
      "training percentage:  0.7999948991303018\n",
      "training_percentage confirmed!\n"
     ]
    }
   ],
   "source": [
    "# Create validation set:, likely using sklearn\n",
    "import math\n",
    "from sklearn.model_selection import train_test_split\n",
    "X_train, X_validation, y_train, y_validation = train_test_split(X_train, y_train, train_size = .80, test_size = 0.20)\n",
    "print('X_train shape:', X_train.shape)\n",
    "print('X_validate shape:', X_validation.shape)\n",
    "print('y_train shape: ', y_train.shape)\n",
    "print('y_validate shape: ', y_validation.shape)\n",
    "training_percentage = X_train.shape[0] / n_train\n",
    "num_training_examples = X_train.shape[0]\n",
    "num_validation_examples = X_validation.shape[0]\n",
    "print('num_training_examples: ', num_training_examples)\n",
    "print('num_validation_examples: ', num_validation_examples)\n",
    "print('training percentage: ', training_percentage)\n",
    "assert(0.79 < training_percentage < 0.801)\n",
    "print('training_percentage confirmed!')\n"
   ]
  },
  {
   "cell_type": "markdown",
   "metadata": {},
   "source": [
    "Visualize the German Traffic Signs Dataset using the pickled file(s). This is open ended, suggestions include: plotting traffic sign images, plotting the count of each sign, etc.\n",
    "\n",
    "The [Matplotlib](http://matplotlib.org/) [examples](http://matplotlib.org/examples/index.html) and [gallery](http://matplotlib.org/gallery.html) pages are a great resource for doing visualizations in Python.\n",
    "\n",
    "**NOTE:** It's recommended you start with something simple first. If you wish to do more, come back to it after you've completed the rest of the sections."
   ]
  },
  {
   "cell_type": "code",
   "execution_count": 4,
   "metadata": {
    "collapsed": false
   },
   "outputs": [
    {
     "name": "stderr",
     "output_type": "stream",
     "text": [
      "/home/jj/anaconda2/envs/python3/lib/python3.5/site-packages/matplotlib/font_manager.py:273: UserWarning: Matplotlib is building the font cache using fc-list. This may take a moment.\n",
      "  warnings.warn('Matplotlib is building the font cache using fc-list. This may take a moment.')\n",
      "/home/jj/anaconda2/envs/python3/lib/python3.5/site-packages/matplotlib/font_manager.py:273: UserWarning: Matplotlib is building the font cache using fc-list. This may take a moment.\n",
      "  warnings.warn('Matplotlib is building the font cache using fc-list. This may take a moment.')\n"
     ]
    },
    {
     "data": {
      "image/png": "[encoded data removed]",
      "text/plain": [
       "<matplotlib.figure.Figure at 0x7fdb5a833b38>"
      ]
     },
     "metadata": {},
     "output_type": "display_data"
    }
   ],
   "source": [
    "### Data exploration visualization goes here.\n",
    "### Feel free to use as many code cells as needed.\n",
    "import matplotlib.pyplot as plt\n",
    "import random\n",
    "# Visualizations will be shown in the notebook.\n",
    "%matplotlib inline\n",
    "\n",
    "sample_size = 8\n",
    "indices = np.random.randint(0, high = len(X_train), size = sample_size)\n",
    "fig = plt.figure()\n",
    "for i in range(len(indices)):\n",
    "    a = fig.add_subplot(1,sample_size,i+1)\n",
    "    plot = plt.imshow(X_train[indices[i]])\n",
    "    a.set_title(i+1)\n",
    "plt.show()"
   ]
  },
  {
   "cell_type": "markdown",
   "metadata": {},
   "source": [
    "----\n",
    "\n",
    "## Step 2: Design and Test a Model Architecture\n",
    "\n",
    "Design and implement a deep learning model that learns to recognize traffic signs. Train and test your model on the [German Traffic Sign Dataset](http://benchmark.ini.rub.de/?section=gtsrb&subsection=dataset).\n",
    "\n",
    "There are various aspects to consider when thinking about this problem:\n",
    "\n",
    "- Neural network architecture\n",
    "- Play around preprocessing techniques (normalization, rgb to grayscale, etc)\n",
    "- Number of examples per label (some have more than others).\n",
    "- Generate fake data.\n",
    "\n",
    "Here is an example of a [published baseline model on this problem](http://yann.lecun.com/exdb/publis/pdf/sermanet-ijcnn-11.pdf). It's not required to be familiar with the approach used in the paper but, it's good practice to try to read papers like these.\n",
    "\n",
    "**NOTE:** The LeNet-5 implementation shown in the [classroom](https://classroom.udacity.com/nanodegrees/nd013/parts/fbf77062-5703-404e-b60c-95b78b2f3f9e/modules/6df7ae49-c61c-4bb2-a23e-6527e69209ec/lessons/601ae704-1035-4287-8b11-e2c2716217ad/concepts/d4aca031-508f-4e0b-b493-e7b706120f81) at the end of the CNN lesson is a solid starting point. You'll have to change the number of classes and possibly the preprocessing, but aside from that it's plug and play!"
   ]
  },
  {
   "cell_type": "markdown",
   "metadata": {},
   "source": [
    "### Implementation\n",
    "\n",
    "Use the code cell (or multiple code cells, if necessary) to implement the first step of your project. Once you have completed your implementation and are satisfied with the results, be sure to thoroughly answer the questions that follow."
   ]
  },
  {
   "cell_type": "code",
   "execution_count": 5,
   "metadata": {
    "collapsed": false
   },
   "outputs": [
    {
     "name": "stdout",
     "output_type": "stream",
     "text": [
      "image1:  (32, 32)\n",
      "label15:  2\n"
     ]
    },
    {
     "data": {
      "image/png": "[encoded data removed]",
      "text/plain": [
       "<matplotlib.figure.Figure at 0x7fdba690af60>"
      ]
     },
     "metadata": {},
     "output_type": "display_data"
    }
   ],
   "source": [
    "### Preprocess the data here.\n",
    "### Feel free to use as many code cells as needed.\n",
    "from sklearn.utils import shuffle\n",
    "from sklearn import preprocessing\n",
    "import cv2\n",
    "\n",
    "# First turn all the images into grayscale\n",
    "\n",
    "\n",
    "X_train, y_train = shuffle(X_train, y_train)\n",
    "image1p = X_train[15]\n",
    "# plt.imshow(image1p)\n",
    "# image1 = cv2.cvtColor(image,cv2.COLOR_RGB2HSV)\n",
    "image1 = cv2.cvtColor(X_train[15234],cv2.COLOR_RGB2GRAY)\n",
    "print('image1: ', image1.shape)\n",
    "plt.imshow(image1, cmap=\"gray\")\n",
    "print('label15: ', y_train[15234])\n",
    "\n",
    "# Batch normalization\n",
    "# L2 Regularization: "
   ]
  },
  {
   "cell_type": "markdown",
   "metadata": {},
   "source": [
    "## Convert to grayscale and normalize\n"
   ]
  },
  {
   "cell_type": "markdown",
   "metadata": {},
   "source": [
    "Try doing minmax scaling without sklearn"
   ]
  },
  {
   "cell_type": "markdown",
   "metadata": {},
   "source": [
    "## Manual Normalization Grayscale Function"
   ]
  },
  {
   "cell_type": "code",
   "execution_count": 6,
   "metadata": {
    "collapsed": false
   },
   "outputs": [],
   "source": [
    "def normalize_grayscale(image_data):\n",
    "    a = np.float32(0.05)\n",
    "    b = np.float32(0.95)\n",
    "    image_data_shape = image_data.shape\n",
    "    gray_data = np.zeros(image_data.shape[:-1])\n",
    "    for idx, image in enumerate(image_data):\n",
    "        gray_data[idx] = cv2.cvtColor(image, cv2.COLOR_RGB2GRAY)\n",
    "    \n",
    "    x_max = np.max(gray_data, axis = 0)\n",
    "    x_min = np.min(gray_data, axis = 0)\n",
    "    gray_data_maxmin = a + (gray_data - x_min)*(b-a)/(x_max - x_min)\n",
    "    return gray_data_maxmin\n",
    "\n",
    "# Now compare this against using the sklearn library's distribution\n"
   ]
  },
  {
   "cell_type": "markdown",
   "metadata": {},
   "source": [
    "## Sklearn MaxMin normalization Function"
   ]
  },
  {
   "cell_type": "code",
   "execution_count": 7,
   "metadata": {
    "collapsed": true
   },
   "outputs": [],
   "source": [
    "from sklearn import preprocessing\n",
    "\n",
    "MinMax_Scaler = preprocessing.MinMaxScaler()\n",
    "def grayscale_convert(image_data):\n",
    "    gray_data = np.zeros(image_data.shape[:-1])\n",
    "    for idx, image in enumerate(image_data):\n",
    "        gray_data[idx] = cv2.cvtColor(image, cv2.COLOR_RGB2GRAY)\n",
    "    return gray_data\n",
    "\n",
    "def normalize_grayscale_sklearnstyle(image_data):\n",
    "    for idx, image in enumerate(image_data):\n",
    "        image_data[idx] = MinMax_Scaler.fit_transform(image)\n",
    "    return image_data"
   ]
  },
  {
   "cell_type": "markdown",
   "metadata": {},
   "source": [
    "## Manual Grayscale + normalization technique implemented"
   ]
  },
  {
   "cell_type": "code",
   "execution_count": 8,
   "metadata": {
    "collapsed": false
   },
   "outputs": [
    {
     "name": "stdout",
     "output_type": "stream",
     "text": [
      "gray_data_maxmin shape:  (31367, 32, 32)\n",
      "gray_data_maxmin values:  0.949999976903\n"
     ]
    },
    {
     "data": {
      "text/plain": [
       "<matplotlib.image.AxesImage at 0x7fdb3fc27668>"
      ]
     },
     "execution_count": 8,
     "metadata": {},
     "output_type": "execute_result"
    },
    {
     "data": {
      "image/png": "[encoded data removed]",
      "text/plain": [
       "<matplotlib.figure.Figure at 0x7fdb3fc5e6a0>"
      ]
     },
     "metadata": {},
     "output_type": "display_data"
    }
   ],
   "source": [
    "# Manual grayscale + normalization\n",
    "gray_data_maxmin = normalize_grayscale(X_train)\n",
    "print('gray_data_maxmin shape: ', gray_data_maxmin.shape)\n",
    "print('gray_data_maxmin values: ', np.max(gray_data_maxmin))\n",
    "\n",
    "random_gray = gray_data_maxmin[15234]\n",
    "plt.imshow(random_gray, cmap=\"gray\")"
   ]
  },
  {
   "cell_type": "markdown",
   "metadata": {},
   "source": [
    "## Sklearn Grayscale + Normalization technique implemented"
   ]
  },
  {
   "cell_type": "code",
   "execution_count": 9,
   "metadata": {
    "collapsed": false
   },
   "outputs": [],
   "source": [
    "# Sklearn grayscale + normalization\n",
    "\n",
    "# Normalize X_train\n",
    "\n",
    "X_train_gray_data_sklearn = grayscale_convert(X_train)\n",
    "X_train_normalized = normalize_grayscale_sklearnstyle(X_train_gray_data_sklearn)\n",
    "\n",
    "# Normalize X_validation\n",
    "\n",
    "X_validation_gray_data_sklearn = grayscale_convert(X_validation)\n",
    "X_validation_normalized = normalize_grayscale_sklearnstyle(X_validation_gray_data_sklearn)\n",
    "\n",
    "\n",
    "# Manual grayscale + normalization\n",
    "X_train_gray_data_manual = normalize_grayscale(X_train)\n",
    "X_validation_gray_data_manual = normalize_grayscale(X_validation)\n",
    "\n",
    "\n",
    "\n",
    "# print('X_train_normalized shape: ', X_train_normalized.shape)\n",
    "# random_gray_sklearned = X_train_normalized[15234]\n",
    "# print('random_gray_sklearned shape: ', random_gray_sklearned.shape)\n",
    "# print('random_gray_sklearned values: ', np.max(random_gray_sklearned))\n",
    "# plt.imshow(random_gray_sklearned, cmap=\"gray\")"
   ]
  },
  {
   "cell_type": "markdown",
   "metadata": {},
   "source": [
    "### Question 1 \n",
    "\n",
    "_Describe how you preprocessed the data. Why did you choose that technique?_"
   ]
  },
  {
   "cell_type": "markdown",
   "metadata": {},
   "source": [
    "### Grayscaling:\n",
    "First I grayscaled my data so that I could perform min-max scaling. I read online that Yan Le-Cun said having color did not increase performance that much so I decided to grayscale all the images.\n",
    "Next came the normalization technique:\n",
    "### Normalization:\n",
    "I chose to implement min-max scaling because it scaled my images from [0, 255] to a range [0, 1]. This is great for images specifically because other methods like mean variance normalization can create negative values which will then get dropped after my activation function. I didn't want to lose data and I still wanted normalized values.\n",
    "<ul>Initially I used sklearn's preprocessing library, specifically the MinMax_Scaler function to normalize my data. I then implemented my own min-max scaling function and started testing which one gave me a better accuracy on the validation set. I found that with sklearns library I got 96.5% accuracy. With my manual function I tweaked the parameters as follows:\n",
    "<li>a = 0.1, b = 0.9. accuracy = 92.4%</li>\n",
    "<li>a = 0.05, b = 0.95 accuracy = 96.8 (at this point I chose to keep this method)</li>\n",
    "</ul>"
   ]
  },
  {
   "cell_type": "markdown",
   "metadata": {},
   "source": [
    "## Test X_train with MinMax grayscale implementation"
   ]
  },
  {
   "cell_type": "code",
   "execution_count": 10,
   "metadata": {
    "collapsed": false
   },
   "outputs": [
    {
     "name": "stdout",
     "output_type": "stream",
     "text": [
      "X_train shape:  (31367, 32, 32, 1)\n",
      "X_validation shape:  (7842, 32, 32, 1)\n"
     ]
    }
   ],
   "source": [
    " # Training with manual normalization\n",
    "X_train = np.expand_dims(X_train_gray_data_manual, axis = 3)\n",
    "X_validation = np.expand_dims(X_validation_gray_data_manual, axis = 3)\n",
    "\n",
    "\n",
    "print('X_train shape: ',X_train.shape)\n",
    "print('X_validation shape: ', X_validation.shape)\n",
    "\n",
    "assert(X_train.shape == (num_training_examples, 32, 32, 1))\n",
    "assert(X_validation.shape == (num_validation_examples, 32, 32, 1))"
   ]
  },
  {
   "cell_type": "markdown",
   "metadata": {},
   "source": [
    "**Answer:**"
   ]
  },
  {
   "cell_type": "code",
   "execution_count": 11,
   "metadata": {
    "collapsed": true
   },
   "outputs": [],
   "source": [
    "### Generate additional data (OPTIONAL!)\n",
    "### and split the data into training/validation/testing sets here.\n",
    "### Feel free to use as many code cells as needed."
   ]
  },
  {
   "cell_type": "markdown",
   "metadata": {},
   "source": [
    "### Question 2\n",
    "\n",
    "_Describe how you set up the training, validation and testing data for your model. **Optional**: If you generated additional data, how did you generate the data? Why did you generate the data? What are the differences in the new dataset (with generated data) from the original dataset?_"
   ]
  },
  {
   "cell_type": "markdown",
   "metadata": {},
   "source": [
    "**Answer:**"
   ]
  },
  {
   "cell_type": "code",
   "execution_count": 12,
   "metadata": {
    "collapsed": true
   },
   "outputs": [],
   "source": [
    "### Define your architecture here.\n",
    "### Feel free to use as many code cells as needed.\n",
    "import tensorflow as tf\n",
    "\n",
    "EPOCHS = 50\n",
    "BATCH_SIZE = 128"
   ]
  },
  {
   "cell_type": "markdown",
   "metadata": {},
   "source": [
    "## Implement TrafficNet-5 Layer\n",
    "### Input: (32, 32, 3) <- this may change if you grayscale"
   ]
  },
  {
   "cell_type": "markdown",
   "metadata": {},
   "source": [
    "## Architecture:"
   ]
  },
  {
   "cell_type": "markdown",
   "metadata": {},
   "source": [
    " #### Layer 1: Convolutional. Input shape: [None, 32, 32, 3] Output shape:[None, 28, 28, 6]\n",
    "  \n",
    " #### Activation: \n",
    "    \n",
    " #### Pooling: Input shape: Input shape: [None, 28, 28, 6] Output shape: [None, 14, 14, 6]\n",
    "    \n",
    " #### Layer 2: Convolutional: Input shape: [None, 14, 14, 6] Output shape: [None, 10, 10, 16]\n",
    "    \n",
    " #### Activation:\n",
    "    \n",
    " #### Pooling: Input shape: [None, 10, 10, 16] Output shape: [None, 5, 5, 16]\n",
    "    \n",
    " #### Flatten: Input shape: [None, 5, 5, 16] Output shape: [None, 1, 5*5*16]\n",
    "    \n",
    " #### Layer 3: Fully Connected: Input shape: [None, 1, 5*5*16] Output shape: [None, 120]\n",
    "    \n",
    " #### Activation: \n",
    " \n",
    " #### TODO : Dropout\n",
    "    \n",
    " #### Layer 4: Fully Connected: Input shape: [None, 120] Output shape: [None, 84]\n",
    "    \n",
    " #### Activation\n",
    "    \n",
    " #### Layer 5: Fully Connected (Logits): Input shape: [None, 84] Output_shape: [None, 43]\n",
    "    \n",
    " #### Output: Logits shape: [None, 43]"
   ]
  },
  {
   "cell_type": "markdown",
   "metadata": {},
   "source": [
    "## Explanation:\n",
    "### Dropout:\n",
    "At first, I only implemented dropout on the fully connected layers and ignored the convolutional layers because they have few parameters. After some testing I increased my validation accuracy by around 1.5% with this method. At first I thought that because we are averaging the gradients in our convolutional layers that performing dropout will not prevent overfitting because we have already interconnected our feature maps by averaging the gradients over their spatial extent. So I just thought it would slow down training.\n",
    "\n",
    "Then after reading [1] I noticed that they claimed an additional performance of 3.05% to 2.55% by adding dropout in the convolutional layers. My original assumption of preventing dropout in convolutional layers due to their parametric sparsity proved to be incorrect. Dropout in convolutional layers helps because it provides noisy inputs for the higher fully connected layes - preventing them from overfitting. I used keep_prob = 0.7 for the convolutional layers and 0.5 for the fully connected layers.\n",
    "\n",
    "<ul>First stage: \n",
    "<li>Dropout in Layer_3_FullyConnected_1: Keep_prob = 0.8</li>\n",
    "<li>Dropout in Layer_4_FullyConnected_2: keep_prob = 0.667</li>\n",
    "<li>Validation Accuracy = 97% (may be overfitting)</li>\n",
    "</ul>\n",
    "<ul>Second stage:\n",
    "<li>Dropout in Layer_1_Conv: keep_prob = 0.5</li>\n",
    "<li>Dropout in Layer_3_FullyConnected_1: Keep_prob = 0.8</li>\n",
    "<li>Dropout in Layer_4_FullyConnected_2: keep_prob = 0.667</li>\n",
    "<li>Validation Accuracy = 96.4 (Dropped 0.6%)</li>\n",
    "<li>Although my validation accuracy dropped 0.6% by implementing dropout in my first layer, it didn't drop enough to give me a poor validation accuracy and it will likely prevent overfitting.</li>\n",
    "</ul>\n",
    "\n",
    "<ul>Third stage:\n",
    "<li>Dropout in Layer_1_Conv: keep_prob = 0.9</li>\n",
    "<li>Dropout in Layer_2_Conv: keep_prob = 0.8</li>\n",
    "<li>Dropout in Layer_3_FullyConnected_1: Keep_prob = 0.7</li>\n",
    "<li>Dropout in Layer_4_FullyConnected_2: keep_prob = 0.5</li>\n",
    "<li>Validation Accuracy = 96.4 (Dropped 0.6%)</li>\n",
    "<li>Although my validation accuracy dropped 0.6% by implementing dropout in my first layer, it didn't drop enough to give me a poor validation accuracy and it will likely prevent overfitting.</li>\n",
    "</ul>\n",
    "\n",
    "<ul>Fourth stage:\n",
    "<li>After I took out all the other dropout's and just left Dropout in Layer_4 at 0.5 I get validation accuracy of 94.3% in 10 epochs but 98.3% in 50 epochs</li>\n",
    "<li>Dropout in Layer_1_Conv: keep_prob = 0.9</li>\n",
    "<li>Dropout in Layer_2_Conv: keep_prob = 0.8</li>\n",
    "<li>Dropout in Layer_3_FullyConnected_1: Keep_prob = 0.7</li>\n",
    "<li>Dropout in Layer_4_FullyConnected_2: keep_prob = 0.5</li>\n",
    "</ul>"
   ]
  },
  {
   "cell_type": "markdown",
   "metadata": {},
   "source": [
    "My mindset the whole time was that I may be overfitting, and that the validation accuracy is not test accuracy, do I didn't want to be persuaded that my CNN was going to test well just because I hit 97% accuracy on a validation set, because overfitting may be the issue."
   ]
  },
  {
   "cell_type": "markdown",
   "metadata": {},
   "source": [
    "I had to move the weights and biases out of TrafficNet in order to normalize them"
   ]
  },
  {
   "cell_type": "code",
   "execution_count": 13,
   "metadata": {
    "collapsed": false
   },
   "outputs": [],
   "source": [
    "mu = 0\n",
    "sigma = 0.1\n",
    "weights = {\n",
    "        'wc1': tf.Variable(tf.truncated_normal([5,5,1,6], mean = mu, stddev = sigma)),\n",
    "        'wc2': tf.Variable(tf.truncated_normal([5,5,6,16], mean = mu, stddev = sigma)),\n",
    "        'wd1': tf.Variable(tf.truncated_normal([400, 120], mean = mu, stddev = sigma)),\n",
    "        'wd2': tf.Variable(tf.truncated_normal([120, 84], mean = mu, stddev = sigma)),\n",
    "        'out': tf.Variable(tf.truncated_normal([84, n_classes], mean = mu, stddev = sigma))\n",
    "    }\n",
    "biases = {\n",
    "        'bc1': tf.Variable(tf.zeros([6])),\n",
    "        'bc2': tf.Variable(tf.zeros([16])),\n",
    "        'bd1': tf.Variable(tf.zeros([120])),\n",
    "        'bd2': tf.Variable(tf.zeros([84])),\n",
    "        'out': tf.Variable(tf.zeros([n_classes]))\n",
    "    }\n"
   ]
  },
  {
   "cell_type": "markdown",
   "metadata": {},
   "source": [
    "remove biases from this"
   ]
  },
  {
   "cell_type": "code",
   "execution_count": 20,
   "metadata": {
    "collapsed": false
   },
   "outputs": [],
   "source": [
    "def TrafficNet(x, weights, biases, keep_prob_l1, keep_prob_l2, keep_prob_l3, keep_prob_l4):\n",
    "    mu = 0\n",
    "    sigma = 0.1\n",
    "    # Prelayer analysis on input image\n",
    "    \n",
    "    print('PreLayer input shape: ', x.get_shape().as_list())\n",
    "    assert(x.get_shape().as_list() == [None, 32, 32, 1])\n",
    "    print('PreLayer shape verified!')\n",
    "    \n",
    "    # Layer 1: Convolutional. Input shape: [None, 32, 32, 3] Output shape:[None, 28, 28, 6]\n",
    "    \n",
    "    Layer_1 = tf.nn.conv2d(x, weights['wc1'], strides = [1,1,1,1], padding = 'VALID')\n",
    "    Layer_1 = tf.nn.bias_add(Layer_1, biases['bc1'])\n",
    "    print('Layer_1 shape: pre conv1', Layer_1.get_shape().as_list()) #14,14,6\n",
    "    assert(Layer_1.get_shape().as_list() == [None, 28, 28, 6])\n",
    "    \n",
    "    # Activation: \n",
    "    Layer_1 = tf.nn.relu(Layer_1)\n",
    "    \n",
    "    # Dropout keep_prob = 0.5\n",
    "    \n",
    "    Layer_1 = tf.nn.dropout(Layer_1,  keep_prob_l1)\n",
    "\n",
    "    # Pooling: Input shape: Input shape: [None, 28, 28, 6] Output shape: [None, 14, 14, 6]\n",
    "    k_size_p1 = [1, 2, 2, 1]\n",
    "    strides_p1 = [1, 2, 2, 1]\n",
    "    padding_p1 = 'VALID'\n",
    "    \n",
    "    Layer_1 = tf.nn.max_pool(Layer_1, k_size_p1, strides_p1, padding_p1)\n",
    "    print('Layer_1 after pool_1 shape: ', Layer_1.get_shape().as_list())\n",
    "    assert(Layer_1.get_shape().as_list() == [None, 14, 14, 6])\n",
    "    \n",
    "    # Layer 2: Convolutional: Input shape: [None, 14, 14, 6] Output shape: [None, 10, 10, 16]\n",
    "    Layer_2 = tf.nn.conv2d(Layer_1, weights['wc2'], strides = [1,1,1,1], padding = 'VALID') + biases['bc2']\n",
    "    Layer_2 = tf.nn.bias_add(Layer_2, biases['bc2'])\n",
    "    print('Layer_2 before pool_2 shape: ', Layer_2.get_shape().as_list())\n",
    "    assert(Layer_2.get_shape().as_list() == [None, 10, 10, 16])    \n",
    "    \n",
    "    # Activation:\n",
    "    \n",
    "    Layer_2 = tf.nn.relu(Layer_2)\n",
    "    \n",
    "    # Dropout:\n",
    "    \n",
    "    Layer_2 = tf.nn.dropout(Layer_2,  keep_prob_l2)\n",
    "\n",
    "    # Pooling: Input shape: [None, 10, 10, 16] Output shape: [None, 5, 5, 16]\n",
    "    \n",
    "    Layer_2 = tf.nn.max_pool(Layer_2, [1,2,2,1], [1,2,2,1], 'VALID')\n",
    "    print('Layer_2 after pool_2 shape: ', Layer_2.get_shape().as_list())\n",
    "    assert(Layer_2.get_shape().as_list() == [None, 5, 5, 16])\n",
    "    \n",
    "    # Flatten: Input shape: [None, 5, 5, 16] Output shape: [None, 1, 5*5*16]\n",
    "    \n",
    "    Flatten_1 = tf.reshape(Layer_2, [-1, 400])\n",
    "    print('Flatten_1 shape: ', Flatten_1.get_shape().as_list())\n",
    "    assert(Flatten_1.get_shape().as_list() == [None, 400])\n",
    "    \n",
    "    # Layer 3: Fully Connected: Input shape: [None, 1, 5*5*16] Output shape: [None, 120]\n",
    "    \n",
    "    Layer_3_FC1 = tf.add(tf.matmul(Flatten_1, weights['wd1']), biases['bd1'])\n",
    "    print('Layer_3_FC1 : ',  Layer_3_FC1.get_shape().as_list())\n",
    "    assert(Layer_3_FC1.get_shape().as_list() == [None, 120])\n",
    "    \n",
    "    # Activation: \n",
    "    \n",
    "    Layer_3_FC1 = tf.nn.relu(Layer_3_FC1)\n",
    "    \n",
    "    # Dropout: keep_prob = 0.8\n",
    "    \n",
    "    Layer_3_FC1 = tf.nn.dropout(Layer_3_FC1,  keep_prob_l3)\n",
    "    \n",
    "    # TODO Layer 4: Fully Connected: Input shape: [None, 120] Output shape: [None, 84]\n",
    "    \n",
    "    Layer_4_FC2 = tf.add(tf.matmul(Layer_3_FC1, weights['wd2']), biases['bd2'])\n",
    "    print('Layer_4_FC2: ', Layer_4_FC2.get_shape().as_list())\n",
    "    assert(Layer_4_FC2.get_shape().as_list() == [None, 84])\n",
    "    \n",
    "    # Activation\n",
    "    \n",
    "    Layer_4_FC2 = tf.nn.relu(Layer_4_FC2)\n",
    "    \n",
    "    # TODO Dropout: keep_prob = 0.7\n",
    "    # Fact: Had better validation set accuracy before dropout! was at 97.5 , but dropout prevents overfitting\n",
    "    Layer_4_FC2 = tf.nn.dropout(Layer_4_FC2, keep_prob_l4)\n",
    "    \n",
    "    # Layer 5: Fully Connected (Logits): Input shape: [None, 84] Output_shape: [None, 43]\n",
    "    \n",
    "    Layer_5_FC3 = tf.add(tf.matmul(Layer_4_FC2, weights['out']), biases['out'])\n",
    "    print('Layer_5_FC3: ', Layer_5_FC3.get_shape().as_list())\n",
    "    assert(Layer_5_FC3.get_shape().as_list() == [None, n_classes])\n",
    "    logits = Layer_5_FC3\n",
    "    \n",
    "    # Output: Logits shape: [None, 43]\n",
    "    return logits"
   ]
  },
  {
   "cell_type": "code",
   "execution_count": null,
   "metadata": {
    "collapsed": true
   },
   "outputs": [],
   "source": []
  },
  {
   "cell_type": "markdown",
   "metadata": {},
   "source": [
    "## Features and Labels\n",
    "Train TrafficNet to classify Traffic-Sign data\n",
    "x is a placeholder for a batch of input images, y is a placeholder for a batch of output labels"
   ]
  },
  {
   "cell_type": "code",
   "execution_count": 27,
   "metadata": {
    "collapsed": false
   },
   "outputs": [],
   "source": [
    "# Assuming we did not grayscale\n",
    "x = tf.placeholder(tf.float32, [None, 32, 32, 1]) #unpack tuple in case we convert to grayscale\n",
    "y = tf.placeholder(tf.int32, [None])\n",
    "\n",
    "keep_prob_l1 = tf.placeholder(tf.float32)\n",
    "keep_prob_l2 = tf.placeholder(tf.float32)\n",
    "keep_prob_l3 = tf.placeholder(tf.float32)\n",
    "keep_prob_l4 = tf.placeholder(tf.float32)\n",
    "\n",
    "test_type = tf.placeholder(tf.string)\n",
    "one_hot_y = tf.one_hot(y, n_classes)"
   ]
  },
  {
   "cell_type": "markdown",
   "metadata": {},
   "source": [
    "# Training Pipeline\n",
    "Create a training pipeline that uses the model to classify Traffic Sign data"
   ]
  },
  {
   "cell_type": "markdown",
   "metadata": {},
   "source": [
    "## Apply L2 Regularization\n",
    "Apply L2Reg only on the weights, not the biases.\n",
    "<ul>\n",
    "<li>At first I implemented L2 Regularization on all the weights giving me a validation set accuracy of 97%</li> \n",
    "<li>Then I implemented it only on the fully connected layers, leading to a validation set accuracy of 97.1%, but this could just be to better starting weight initialization values</li>\n",
    "<li>After testing L2 Regularization only on the fully connected layers I received a validation set accuracy of 97.5% so I kept this method</li>\n",
    "<li>After testing L2 Regularization on the convolutional layers as well it seems that there is not much improvement because normalizing the fully connected layers retroactively normalizes the convolutional layers as well</li>\n",
    "</ul>"
   ]
  },
  {
   "cell_type": "code",
   "execution_count": 28,
   "metadata": {
    "collapsed": false
   },
   "outputs": [
    {
     "name": "stdout",
     "output_type": "stream",
     "text": [
      "PreLayer input shape:  [None, 32, 32, 1]\n",
      "PreLayer shape verified!\n",
      "Layer_1 shape: pre conv1 [None, 28, 28, 6]\n",
      "Layer_1 after pool_1 shape:  [None, 14, 14, 6]\n",
      "Layer_2 before pool_2 shape:  [None, 10, 10, 16]\n",
      "Layer_2 after pool_2 shape:  [None, 5, 5, 16]\n",
      "Flatten_1 shape:  [None, 400]\n",
      "Layer_3_FC1 :  [None, 120]\n",
      "Layer_4_FC2:  [None, 84]\n",
      "Layer_5_FC3:  [None, 43]\n"
     ]
    }
   ],
   "source": [
    "rate = 0.001\n",
    "β = 0.001\n",
    "\n",
    "logits = TrafficNet(x, weights, biases, keep_prob_l1, keep_prob_l2, keep_prob_l3, keep_prob_l4)\n",
    "cross_entropy = tf.nn.softmax_cross_entropy_with_logits(logits, one_hot_y)\n",
    "loss_operation = tf.reduce_mean(cross_entropy) \\\n",
    "+ β*tf.nn.l2_loss(weights['wd1']) \\\n",
    "+ β*tf.nn.l2_loss(weights['wd2']) \\\n",
    "# + β*tf.nn.l2_loss(weights['out'])\n",
    "optimizer = tf.train.AdamOptimizer(learning_rate = rate)\n",
    "training_operation = optimizer.minimize(loss_operation)"
   ]
  },
  {
   "cell_type": "markdown",
   "metadata": {},
   "source": [
    "# Model Evaluation\n",
    "Evaluate loss and accuracy of the model for a given dataset"
   ]
  },
  {
   "cell_type": "code",
   "execution_count": 29,
   "metadata": {
    "collapsed": false
   },
   "outputs": [],
   "source": [
    "correct_prediction = tf.equal(tf.argmax(logits, 1), tf.argmax(one_hot_y, 1))\n",
    "accuracy_operation = tf.reduce_mean(tf.cast(correct_prediction, tf.float32)) #note: casting just changes the type\n",
    "saver = tf.train.Saver()\n",
    "\n",
    "def evaluate(X_data, y_data):\n",
    "    \n",
    "    \n",
    "    keep_prob_dict['pl1']\n",
    "    \n",
    "    num_examples = len(X_data)\n",
    "    total_accuracy = 0\n",
    "    sess = tf.get_default_session()\n",
    "    for offset in range(0, num_examples, BATCH_SIZE):\n",
    "        batch_x, batch_y = X_data[offset: offset + BATCH_SIZE], y_data[offset: offset + BATCH_SIZE]\n",
    "        accuracy = sess.run(accuracy_operation, feed_dict = { x: batch_x, y: batch_y, \n",
    "                    keep_prob_l1: 1,\n",
    "                    keep_prob_l2: 1,\n",
    "                    keep_prob_l3: 1,\n",
    "                    keep_prob_l4: 1\n",
    "        })\n",
    "        total_accuracy += (accuracy * len(batch_x))\n",
    "    return total_accuracy / num_examples\n"
   ]
  },
  {
   "cell_type": "markdown",
   "metadata": {},
   "source": [
    "# Train the Model\n",
    "Run the training data throug the training data pipeline to train the model\n",
    "<ul>\n",
    "<li>Before each epoch, shuffle the training set</li>\n",
    "<li>After each epoch, measure the loss and accuracy of the validation set </li>\n",
    "<li>Save the model after training</li>\n",
    "</ul>"
   ]
  },
  {
   "cell_type": "code",
   "execution_count": null,
   "metadata": {
    "collapsed": false
   },
   "outputs": [
    {
     "name": "stdout",
     "output_type": "stream",
     "text": [
      "Training...\n",
      "\n",
      "EPOCH 1 ...\n",
      "Validation Accuracy = 0.586\n",
      "\n",
      "EPOCH 2 ...\n",
      "Validation Accuracy = 0.807\n",
      "\n",
      "EPOCH 3 ...\n",
      "Validation Accuracy = 0.875\n",
      "\n",
      "EPOCH 4 ...\n",
      "Validation Accuracy = 0.892\n",
      "\n",
      "EPOCH 5 ...\n",
      "Validation Accuracy = 0.934\n",
      "\n",
      "EPOCH 6 ...\n",
      "Validation Accuracy = 0.943\n",
      "\n",
      "EPOCH 7 ...\n",
      "Validation Accuracy = 0.957\n",
      "\n",
      "EPOCH 8 ...\n",
      "Validation Accuracy = 0.960\n",
      "\n",
      "EPOCH 9 ...\n",
      "Validation Accuracy = 0.965\n",
      "\n",
      "EPOCH 10 ...\n",
      "Validation Accuracy = 0.966\n",
      "\n",
      "EPOCH 11 ...\n",
      "Validation Accuracy = 0.971\n",
      "\n",
      "EPOCH 12 ...\n",
      "Validation Accuracy = 0.969\n",
      "\n",
      "EPOCH 13 ...\n",
      "Validation Accuracy = 0.976\n",
      "\n",
      "EPOCH 14 ...\n",
      "Validation Accuracy = 0.977\n",
      "\n",
      "EPOCH 15 ...\n",
      "Validation Accuracy = 0.977\n",
      "\n",
      "EPOCH 16 ...\n",
      "Validation Accuracy = 0.980\n",
      "\n",
      "EPOCH 17 ...\n",
      "Validation Accuracy = 0.980\n",
      "\n",
      "EPOCH 18 ...\n",
      "Validation Accuracy = 0.981\n",
      "\n",
      "EPOCH 19 ...\n",
      "Validation Accuracy = 0.980\n",
      "\n",
      "EPOCH 20 ...\n",
      "Validation Accuracy = 0.982\n",
      "\n",
      "EPOCH 21 ...\n",
      "Validation Accuracy = 0.982\n",
      "\n",
      "EPOCH 22 ...\n",
      "Validation Accuracy = 0.983\n",
      "\n",
      "EPOCH 23 ...\n",
      "Validation Accuracy = 0.985\n",
      "\n",
      "EPOCH 24 ...\n",
      "Validation Accuracy = 0.985\n",
      "\n",
      "EPOCH 25 ...\n",
      "Validation Accuracy = 0.985\n",
      "\n",
      "EPOCH 26 ...\n",
      "Validation Accuracy = 0.984\n",
      "\n",
      "EPOCH 27 ...\n",
      "Validation Accuracy = 0.986\n",
      "\n"
     ]
    }
   ],
   "source": [
    "with tf.Session() as sess:\n",
    "    sess.run(tf.initialize_all_variables())\n",
    "    num_examples = len(X_train)\n",
    "    \n",
    "    print('Training...')\n",
    "    print()\n",
    "    for i in range(EPOCHS):\n",
    "        # Shuffle the training values before training\n",
    "        X_train, y_train = shuffle(X_train, y_train)\n",
    "        for offset in range(0, num_examples, BATCH_SIZE):\n",
    "            end = offset + BATCH_SIZE\n",
    "            batch_x, batch_y = X_train[offset:end], y_train[offset: end]\n",
    "            sess.run(training_operation, feed_dict = {x: batch_x, y: batch_y, \n",
    "                     keep_prob_l1: 0.9,\n",
    "                     keep_prob_l2: 0.8,\n",
    "                     keep_prob_l3: 0.7,\n",
    "                     keep_prob_l4: 0.5\n",
    "               \n",
    "            })        \n",
    "        validation_accuracy = evaluate(X_validation, y_validation) # create with sklearn \n",
    "        print(\"EPOCH {} ...\".format(i+1))\n",
    "        print(\"Validation Accuracy = {:.3f}\".format(validation_accuracy))\n",
    "        print()\n",
    "    saver.save(sess, 'traffic-test-setup_1')\n",
    "    print('Model saved')"
   ]
  },
  {
   "cell_type": "markdown",
   "metadata": {},
   "source": [
    "### Question 3\n",
    "\n",
    "_What does your final architecture look like? (Type of model, layers, sizes, connectivity, etc.)  For reference on how to build a deep neural network using TensorFlow, see [Deep Neural Network in TensorFlow\n",
    "](https://classroom.udacity.com/nanodegrees/nd013/parts/fbf77062-5703-404e-b60c-95b78b2f3f9e/modules/6df7ae49-c61c-4bb2-a23e-6527e69209ec/lessons/b516a270-8600-4f93-a0a3-20dfeabe5da6/concepts/83a3a2a2-a9bd-4b7b-95b0-eb924ab14432) from the classroom._\n"
   ]
  },
  {
   "cell_type": "markdown",
   "metadata": {},
   "source": [
    "**Answer:**"
   ]
  },
  {
   "cell_type": "code",
   "execution_count": null,
   "metadata": {
    "collapsed": true
   },
   "outputs": [],
   "source": [
    "### Train your model here.\n",
    "### Feel free to use as many code cells as needed."
   ]
  },
  {
   "cell_type": "markdown",
   "metadata": {},
   "source": [
    "### Question 4\n",
    "\n",
    "_How did you train your model? (Type of optimizer, batch size, epochs, hyperparameters, etc.)_\n"
   ]
  },
  {
   "cell_type": "markdown",
   "metadata": {},
   "source": [
    "**Answer:**"
   ]
  },
  {
   "cell_type": "markdown",
   "metadata": {},
   "source": [
    "### Question 5\n",
    "\n",
    "\n",
    "_What approach did you take in coming up with a solution to this problem? It may have been a process of trial and error, in which case, outline the steps you took to get to the final solution and why you chose those steps. Perhaps your solution involved an already well known implementation or architecture. In this case, discuss why you think this is suitable for the current problem._"
   ]
  },
  {
   "cell_type": "markdown",
   "metadata": {},
   "source": [
    "**Answer:**"
   ]
  },
  {
   "cell_type": "markdown",
   "metadata": {},
   "source": [
    "---\n",
    "\n",
    "## Step 3: Test a Model on New Images\n",
    "\n",
    "Take several pictures of traffic signs that you find on the web or around you (at least five), and run them through your classifier on your computer to produce example results. The classifier might not recognize some local signs but it could prove interesting nonetheless.\n",
    "\n",
    "You may find `signnames.csv` useful as it contains mappings from the class id (integer) to the actual sign name."
   ]
  },
  {
   "cell_type": "markdown",
   "metadata": {},
   "source": [
    "### Implementation\n",
    "\n",
    "Use the code cell (or multiple code cells, if necessary) to implement the first step of your project. Once you have completed your implementation and are satisfied with the results, be sure to thoroughly answer the questions that follow."
   ]
  },
  {
   "cell_type": "code",
   "execution_count": null,
   "metadata": {
    "collapsed": true
   },
   "outputs": [],
   "source": [
    "### Load the images and plot them here.\n",
    "### Feel free to use as many code cells as needed."
   ]
  },
  {
   "cell_type": "markdown",
   "metadata": {},
   "source": [
    "### Question 6\n",
    "\n",
    "_Choose five candidate images of traffic signs and provide them in the report. Are there any particular qualities of the image(s) that might make classification difficult? It could be helpful to plot the images in the notebook._\n",
    "\n"
   ]
  },
  {
   "cell_type": "markdown",
   "metadata": {},
   "source": [
    "**Answer:**"
   ]
  },
  {
   "cell_type": "code",
   "execution_count": null,
   "metadata": {
    "collapsed": true
   },
   "outputs": [],
   "source": [
    "### Run the predictions here.\n",
    "### Feel free to use as many code cells as needed."
   ]
  },
  {
   "cell_type": "markdown",
   "metadata": {},
   "source": [
    "### Question 7\n",
    "\n",
    "_Is your model able to perform equally well on captured pictures when compared to testing on the dataset? The simplest way to do this check the accuracy of the predictions. For example, if the model predicted 1 out of 5 signs correctly, it's 20% accurate._\n",
    "\n",
    "_**NOTE:** You could check the accuracy manually by using `signnames.csv` (same directory). This file has a mapping from the class id (0-42) to the corresponding sign name. So, you could take the class id the model outputs, lookup the name in `signnames.csv` and see if it matches the sign from the image._\n"
   ]
  },
  {
   "cell_type": "markdown",
   "metadata": {},
   "source": [
    "**Answer:**"
   ]
  },
  {
   "cell_type": "code",
   "execution_count": null,
   "metadata": {
    "collapsed": true
   },
   "outputs": [],
   "source": [
    "### Visualize the softmax probabilities here.\n",
    "### Feel free to use as many code cells as needed."
   ]
  },
  {
   "cell_type": "markdown",
   "metadata": {},
   "source": [
    "### Question 8\n",
    "\n",
    "*Use the model's softmax probabilities to visualize the **certainty** of its predictions, [`tf.nn.top_k`](https://www.tensorflow.org/versions/r0.12/api_docs/python/nn.html#top_k) could prove helpful here. Which predictions is the model certain of? Uncertain? If the model was incorrect in its initial prediction, does the correct prediction appear in the top k? (k should be 5 at most)*\n",
    "\n",
    "`tf.nn.top_k` will return the values and indices (class ids) of the top k predictions. So if k=3, for each sign, it'll return the 3 largest probabilities (out of a possible 43) and the correspoding class ids.\n",
    "\n",
    "Take this numpy array as an example:\n",
    "\n",
    "```\n",
    "# (5, 6) array\n",
    "a = np.array([[ 0.24879643,  0.07032244,  0.12641572,  0.34763842,  0.07893497,\n",
    "         0.12789202],\n",
    "       [ 0.28086119,  0.27569815,  0.08594638,  0.0178669 ,  0.18063401,\n",
    "         0.15899337],\n",
    "       [ 0.26076848,  0.23664738,  0.08020603,  0.07001922,  0.1134371 ,\n",
    "         0.23892179],\n",
    "       [ 0.11943333,  0.29198961,  0.02605103,  0.26234032,  0.1351348 ,\n",
    "         0.16505091],\n",
    "       [ 0.09561176,  0.34396535,  0.0643941 ,  0.16240774,  0.24206137,\n",
    "         0.09155967]])\n",
    "```\n",
    "\n",
    "Running it through `sess.run(tf.nn.top_k(tf.constant(a), k=3))` produces:\n",
    "\n",
    "```\n",
    "TopKV2(values=array([[ 0.34763842,  0.24879643,  0.12789202],\n",
    "       [ 0.28086119,  0.27569815,  0.18063401],\n",
    "       [ 0.26076848,  0.23892179,  0.23664738],\n",
    "       [ 0.29198961,  0.26234032,  0.16505091],\n",
    "       [ 0.34396535,  0.24206137,  0.16240774]]), indices=array([[3, 0, 5],\n",
    "       [0, 1, 4],\n",
    "       [0, 5, 1],\n",
    "       [1, 3, 5],\n",
    "       [1, 4, 3]], dtype=int32))\n",
    "```\n",
    "\n",
    "Looking just at the first row we get `[ 0.34763842,  0.24879643,  0.12789202]`, you can confirm these are the 3 largest probabilities in `a`. You'll also notice `[3, 0, 5]` are the corresponding indices."
   ]
  },
  {
   "cell_type": "markdown",
   "metadata": {},
   "source": [
    "**Answer:**"
   ]
  },
  {
   "cell_type": "markdown",
   "metadata": {},
   "source": [
    "> **Note**: Once you have completed all of the code implementations and successfully answered each question above, you may finalize your work by exporting the iPython Notebook as an HTML document. You can do this by using the menu above and navigating to  \\n\",\n",
    "    \"**File -> Download as -> HTML (.html)**. Include the finished document along with this notebook as your submission."
   ]
  },
  {
   "cell_type": "code",
   "execution_count": null,
   "metadata": {
    "collapsed": true
   },
   "outputs": [],
   "source": []
  }
 ],
 "metadata": {
  "anaconda-cloud": {},
  "kernelspec": {
   "display_name": "Python [conda env:python3]",
   "language": "python",
   "name": "conda-env-python3-py"
  },
  "language_info": {
   "codemirror_mode": {
    "name": "ipython",
    "version": 3
   },
   "file_extension": ".py",
   "mimetype": "text/x-python",
   "name": "python",
   "nbconvert_exporter": "python",
   "pygments_lexer": "ipython3",
   "version": "3.5.2"
  }
 },
 "nbformat": 4,
 "nbformat_minor": 1
}
